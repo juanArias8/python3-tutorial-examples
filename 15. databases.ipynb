{
 "cells": [
  {
   "cell_type": "markdown",
   "metadata": {},
   "source": [
    "***\n",
    "# DB API and SQLite\n",
    "***\n",
    "\n",
    "### Data types\n",
    "* Date\n",
    "* Time\n",
    "* Timestamp\n",
    "* DateFromTicks\n",
    "* TimeFromTicks\n",
    "* Binary\n",
    "* STRING\n",
    "* BINARY\n",
    "* NUMBER \n",
    "* DATETIME\n",
    "* ROWID\n",
    "\n",
    "### qmark style\n",
    "* sql = “select all from t where valor=?”"
   ]
  },
  {
   "cell_type": "code",
   "execution_count": 2,
   "metadata": {},
   "outputs": [],
   "source": [
    "import sqlite3 as sql"
   ]
  },
  {
   "cell_type": "code",
   "execution_count": 3,
   "metadata": {},
   "outputs": [
    {
     "name": "stdout",
     "output_type": "stream",
     "text": [
      "2.0\n",
      "1\n",
      "qmark\n"
     ]
    }
   ],
   "source": [
    "print(sql.apilevel)\n",
    "print(sql.threadsafety)\n",
    "print(sql.paramstyle)"
   ]
  },
  {
   "cell_type": "code",
   "execution_count": 4,
   "metadata": {},
   "outputs": [],
   "source": [
    "# Create database conection\n",
    "db = sql.connect('database.sql')"
   ]
  },
  {
   "cell_type": "code",
   "execution_count": 5,
   "metadata": {},
   "outputs": [],
   "source": [
    "# Create cursor \n",
    "cursor = db.cursor()"
   ]
  },
  {
   "cell_type": "code",
   "execution_count": 6,
   "metadata": {},
   "outputs": [
    {
     "data": {
      "text/plain": [
       "<sqlite3.Cursor at 0x7f63e8d87650>"
      ]
     },
     "execution_count": 6,
     "metadata": {},
     "output_type": "execute_result"
    }
   ],
   "source": [
    "cursor.execute('''create table ichorlab_team (name text, email text)''')"
   ]
  },
  {
   "cell_type": "code",
   "execution_count": 9,
   "metadata": {},
   "outputs": [
    {
     "data": {
      "text/plain": [
       "<sqlite3.Cursor at 0x7f63e8d87650>"
      ]
     },
     "execution_count": 9,
     "metadata": {},
     "output_type": "execute_result"
    }
   ],
   "source": [
    "cursor.execute('''insert into ichorlab_team values ('Juan David Arias', 'juan@email.com')''')\n",
    "cursor.execute('''insert into ichorlab_team values ('Luis Felipe Henao', 'felipe@email.com')''')\n",
    "cursor.execute('''insert into ichorlab_team values ('Alejandro Sánchez Yalí', 'yali@email.com')''')\n",
    "cursor.execute('''insert into ichorlab_team values ('Mauricio Andrés Villa', 'mauricio@email.com')''')"
   ]
  },
  {
   "cell_type": "code",
   "execution_count": 10,
   "metadata": {},
   "outputs": [],
   "source": [
    "db.commit()"
   ]
  },
  {
   "cell_type": "code",
   "execution_count": 21,
   "metadata": {},
   "outputs": [
    {
     "data": {
      "text/plain": [
       "<sqlite3.Cursor at 0x7f63e8d87650>"
      ]
     },
     "execution_count": 21,
     "metadata": {},
     "output_type": "execute_result"
    }
   ],
   "source": [
    "cursor.execute('''select * from ichorlab_team''')"
   ]
  },
  {
   "cell_type": "code",
   "execution_count": 22,
   "metadata": {},
   "outputs": [
    {
     "name": "stdout",
     "output_type": "stream",
     "text": [
      "Name: Juan David Arias, Email: juan@email.com\n",
      "Name: Mauricio Andrés Villa, Email: mauricio@email.com\n",
      "Name: Luis Felipe Henao, Email: felipe@email.com\n",
      "Name: Alejandro Sánchez Yalí, Email: yali@email.com\n"
     ]
    }
   ],
   "source": [
    "for person in cursor.fetchall():\n",
    "    print(f'Name: {person[0]}, Email: {person[1]}')"
   ]
  },
  {
   "cell_type": "code",
   "execution_count": 25,
   "metadata": {},
   "outputs": [
    {
     "data": {
      "text/plain": [
       "<sqlite3.Cursor at 0x7f63e8d87650>"
      ]
     },
     "execution_count": 25,
     "metadata": {},
     "output_type": "execute_result"
    }
   ],
   "source": [
    "cursor.execute('''select * from ichorlab_team where name=?''', ('Juan David Arias', ))"
   ]
  },
  {
   "cell_type": "code",
   "execution_count": 26,
   "metadata": {},
   "outputs": [
    {
     "name": "stdout",
     "output_type": "stream",
     "text": [
      "Name: Juan David Arias, Email: juan@email.com\n"
     ]
    }
   ],
   "source": [
    "person = cursor.fetchone()\n",
    "print(f'Name: {person[0]}, Email: {person[1]}')"
   ]
  },
  {
   "cell_type": "code",
   "execution_count": null,
   "metadata": {},
   "outputs": [],
   "source": []
  }
 ],
 "metadata": {
  "kernelspec": {
   "display_name": "Python 3",
   "language": "python",
   "name": "python3"
  },
  "language_info": {
   "codemirror_mode": {
    "name": "ipython",
    "version": 3
   },
   "file_extension": ".py",
   "mimetype": "text/x-python",
   "name": "python",
   "nbconvert_exporter": "python",
   "pygments_lexer": "ipython3",
   "version": "3.7.1"
  }
 },
 "nbformat": 4,
 "nbformat_minor": 2
}
