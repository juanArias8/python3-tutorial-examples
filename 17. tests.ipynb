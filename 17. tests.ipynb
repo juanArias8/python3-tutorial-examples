{
 "cells": [
  {
   "cell_type": "markdown",
   "metadata": {},
   "source": [
    "***\n",
    "# Doctest\n",
    "***"
   ]
  },
  {
   "cell_type": "code",
   "execution_count": 7,
   "metadata": {},
   "outputs": [],
   "source": [
    "def square_list(list_param) -> list:\n",
    "    '''Calculates the squares of the items in a list\n",
    "    \n",
    "    :param list_param: list of values \n",
    "    :returns: list of squares items\n",
    "    :rtype: list\n",
    "    \n",
    "    >>> list_param = [0, 1, 2, 3]\n",
    "    >>> square_list(list_param)\n",
    "    [0, 1, 4, 9]\n",
    "    '''\n",
    "    \n",
    "    return [item ** 2 for item in list_param]\n",
    "\n",
    "\n",
    "def _test():\n",
    "    import doctest\n",
    "    doctest.testmod()\n",
    "\n",
    "    \n",
    "_test()"
   ]
  },
  {
   "cell_type": "code",
   "execution_count": 9,
   "metadata": {},
   "outputs": [],
   "source": [
    "def square(number: int) -> int:\n",
    "    '''Calculates the squares of a number\n",
    "    \n",
    "    :param number: value\n",
    "    :returns: square of a number\n",
    "    :rtype: int\n",
    "    \n",
    "    >>> numbers = [0, 1, 2, 3]\n",
    "    >>> for number in numbers:\n",
    "    ...    square(number)\n",
    "    0\n",
    "    1\n",
    "    4\n",
    "    9\n",
    "    '''\n",
    "    \n",
    "    return number ** 2\n",
    "\n",
    "\n",
    "def _test():\n",
    "    import doctest\n",
    "    doctest.testmod()\n",
    "\n",
    "    \n",
    "_test()"
   ]
  },
  {
   "cell_type": "markdown",
   "metadata": {},
   "source": [
    "***\n",
    "# Unittest\n",
    "***"
   ]
  },
  {
   "cell_type": "code",
   "execution_count": 11,
   "metadata": {},
   "outputs": [],
   "source": [
    "import unittest"
   ]
  },
  {
   "cell_type": "code",
   "execution_count": 16,
   "metadata": {},
   "outputs": [],
   "source": [
    "def square(number) -> int:\n",
    "    '''Calculates the squares of a number\n",
    "    \n",
    "    :param number: value\n",
    "    :returns: square of a number\n",
    "    :rtype: int\n",
    "    '''\n",
    "        \n",
    "    return number ** 2"
   ]
  },
  {
   "cell_type": "code",
   "execution_count": null,
   "metadata": {},
   "outputs": [],
   "source": [
    "# Example 1\n",
    "\n",
    "class SquareTest(unittest.TestCase):\n",
    "    \n",
    "    def test(self):\n",
    "        numbers = [0, 1, 2, 3]\n",
    "        squares = [square[number] for number in numbers]\n",
    "        self.assertEqual(squares, [0, 1, 4, 9])\n",
    "        \n",
    "unittest.main()"
   ]
  },
  {
   "cell_type": "code",
   "execution_count": null,
   "metadata": {},
   "outputs": [],
   "source": [
    "# Example 2 (Context)\n",
    "\n",
    "class SquareTest(unittest.TestCase):\n",
    "    \n",
    "    def setUp(self):\n",
    "        print('setup context')\n",
    "        self.numbers = [0, 1, 2, 3]\n",
    "        \n",
    "    def test(self):\n",
    "        print('executing test')\n",
    "        squares = [square[number] for number in numbers]\n",
    "        self.assertEqual(squares, [0, 1, 4, 9])\n",
    "        \n",
    "    def tearDown(self):\n",
    "        print('destroying context')\n",
    "        del self.numbers\n",
    "        \n",
    "unittest.main()"
   ]
  }
 ],
 "metadata": {
  "kernelspec": {
   "display_name": "Python 3",
   "language": "python",
   "name": "python3"
  },
  "language_info": {
   "codemirror_mode": {
    "name": "ipython",
    "version": 3
   },
   "file_extension": ".py",
   "mimetype": "text/x-python",
   "name": "python",
   "nbconvert_exporter": "python",
   "pygments_lexer": "ipython3",
   "version": "3.7.1"
  }
 },
 "nbformat": 4,
 "nbformat_minor": 2
}
